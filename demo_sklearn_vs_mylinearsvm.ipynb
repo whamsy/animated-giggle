{
 "cells": [
  {
   "cell_type": "code",
   "execution_count": 3,
   "metadata": {},
   "outputs": [],
   "source": [
    "import time\n",
    "import random\n",
    "import numpy as np\n",
    "import pandas as pd\n",
    "\n",
    "import multiprocessing\n",
    "from multiprocessing import Pool\n",
    "\n",
    "import matplotlib.pyplot as plt\n",
    "from itertools import combinations\n",
    "\n",
    "import sklearn\n",
    "from sklearn import preprocessing\n",
    "from sklearn.preprocessing import StandardScaler\n",
    "from sklearn.model_selection import train_test_split\n",
    "from sklearn.metrics import accuracy_score\n",
    "\n",
    "from sklearn.datasets import load_digits"
   ]
  },
  {
   "cell_type": "code",
   "execution_count": 4,
   "metadata": {},
   "outputs": [],
   "source": [
    "digits = load_digits()\n",
    "digits2 = load_digits(return_X_y=True)\n",
    "\n",
    "X = digits2[0]\n",
    "y = digits2[1]\n",
    "\n",
    "#splitting the data into train and test groups\n",
    "X_train, X_test, y_train, y_test = train_test_split(X, y, random_state=1)\n",
    "\n",
    "scaler = StandardScaler()\n",
    "#standardizing the data\n",
    "scaler = StandardScaler().fit(X_train)\n",
    "X_train = scaler.transform(X_train)\n",
    "X_test = scaler.transform(X_test)"
   ]
  },
  {
   "cell_type": "markdown",
   "metadata": {},
   "source": [
    "## Using own algorithm"
   ]
  },
  {
   "cell_type": "code",
   "execution_count": 5,
   "metadata": {},
   "outputs": [],
   "source": [
    "#writing functions to return the requisite data, required for multiprocessing\n",
    "\n",
    "def get_x_train():\n",
    "    return X_train\n",
    "\n",
    "def get_y_train():\n",
    "    return y_train\n",
    "\n",
    "def get_y_test():\n",
    "    return y_test\n",
    "\n",
    "def get_x_test():\n",
    "    return X_test"
   ]
  },
  {
   "cell_type": "code",
   "execution_count": 6,
   "metadata": {},
   "outputs": [],
   "source": [
    "#defining loss function for objective\n",
    "\n",
    "def obj_loss_fun_output(beta, x_i, y_i, h=0.5):\n",
    "    prod = y_i*(np.dot(x_i,beta))\n",
    "    if prod > 1+h:\n",
    "        return 0\n",
    "    elif abs(1-prod) <= h:\n",
    "        out = ((1+h-prod)**2)/(4*h)\n",
    "        return out\n",
    "    elif prod < 1-h:\n",
    "        return (1-prod)\n",
    "\n",
    "## writing objective function\n",
    "\n",
    "def computeobj(beta, X=X_train, y=y_train, l=0.1):\n",
    "    n,d = X.shape\n",
    "    obj1 = np.zeros(n)\n",
    "    for i in range(n):\n",
    "        obj1[i] = obj_loss_fun_output(beta,X[i],y[i])\n",
    "    part_1 = (1/n)*np.sum(obj1)\n",
    "    part_2 = l*(((np.linalg.norm(beta, ord=2)))**2)\n",
    "    return np.array(part_1+part_2)"
   ]
  },
  {
   "cell_type": "code",
   "execution_count": 7,
   "metadata": {},
   "outputs": [],
   "source": [
    "#defining loss function for gradient\n",
    "\n",
    "def grad_loss_fun_output(beta, x_i, y_i, h=0.5):\n",
    "    prod1 = y_i*(np.dot(x_i,beta))\n",
    "    if prod1 > 1+h:\n",
    "        return 0\n",
    "    elif abs(1-prod1) <= h:\n",
    "        out2 = (1+h-prod1)/(-2*h)\n",
    "        return out2\n",
    "    elif prod1 < 1-h:\n",
    "        return -1\n",
    "    \n",
    "def computegrad(beta, X=X_train, y=y_train, l=0.1):\n",
    "    n,d = X.shape\n",
    "    obj1 = np.zeros(n)\n",
    "    for i in range(n):\n",
    "        obj1[i] = grad_loss_fun_output(beta,X[i],y[i])\n",
    "    first_part = (1/n)*np.dot(X.T,y*obj1)\n",
    "    second_part = 2*l*beta\n",
    "    return np.array(first_part+second_part)"
   ]
  },
  {
   "cell_type": "code",
   "execution_count": 8,
   "metadata": {},
   "outputs": [],
   "source": [
    "## backtracking function iterates through and returns optimal eta value, we also set a max_iter\n",
    "## limit to prevent it from running too long\n",
    "def backtracking(current_eta,t,current_beta,X=X_train, y=y_train,l=0.1,alpha=0.5,gamma=0.8):\n",
    "    max_iter = 200\n",
    "    iter_num = 0\n",
    "    eta = current_eta\n",
    "    grad_curr = computegrad(current_beta,X,y,l)\n",
    "    norm_grad_curr = np.linalg.norm(grad_curr)\n",
    "    while computeobj(current_beta-eta*grad_curr,X,y) > (computeobj(current_beta,X,y) - alpha*eta*(norm_grad_curr**2)) and iter_num < max_iter:\n",
    "#         print(\"iter_backtrack:{}, eta:{}\".format(iter_num,eta))\n",
    "        eta = gamma*eta\n",
    "        iter_num = iter_num+1\n",
    "    return eta"
   ]
  },
  {
   "cell_type": "code",
   "execution_count": 9,
   "metadata": {},
   "outputs": [],
   "source": [
    "## mylinearsvm uses the X_train and y_train matrices and calculates the optimal beta values.\n",
    "## it reurns a list of beta_vals which is a collection of beta values calculated\n",
    "## at each iteration. Each iteration returns beta values with a lower objective than\n",
    "## the previous one. The goal is to get the ideal beta_vals which have the lowest \n",
    "## objective possible\n",
    "def mylinearsvm(X=X_train,y=y_train,eta=1,max_iter=250,eps=0.0001,l=0.1):\n",
    "\n",
    "    n,d = X.shape\n",
    "    \n",
    "    beta_t = np.zeros(d)\n",
    "    theta_t = np.zeros(d)\n",
    "    \n",
    "    beta_vals = [beta_t]\n",
    "    \n",
    "    del_beta_t = computegrad(beta_t,X,y,l)\n",
    "    \n",
    "    grad_norm = eps\n",
    "    \n",
    "    iter_num = 0\n",
    "    \n",
    "    eta_current = eta\n",
    "    \n",
    "    while iter_num < max_iter and grad_norm >= eps:\n",
    "#         print(\"iter: {}, norm:{}\".format(iter_num, grad_norm))\n",
    "        eta_current = backtracking(eta_current,iter_num,beta_t,X,y,l) #get eta with backtracking\n",
    "        beta_t_1 = theta_t - eta_current*computegrad(theta_t,X,y,l) #beta_t+1\n",
    "        theta_t_1 = beta_t_1 + (iter_num/(iter_num+3))*(beta_t_1 - beta_t) #theta_t+1\n",
    "        beta_t = beta_t_1\n",
    "        theta_t = theta_t_1\n",
    "        beta_vals.append(beta_t)\n",
    "        grad_norm = (np.linalg.norm(beta_t, ord=2))**2\n",
    "        iter_num = iter_num + 1\n",
    "\n",
    "    return np.array(beta_vals)"
   ]
  },
  {
   "cell_type": "code",
   "execution_count": 10,
   "metadata": {},
   "outputs": [],
   "source": [
    "# This is the one_vs_one master function which for each combination of classes returns the optimal\n",
    "## beta values. We use this to decide the number of counts for each feature with respect to every class\n",
    "## The most frequent class is decided as its label\n",
    "def onevone(this_tuple):\n",
    "    \n",
    "    print('predicting for tuple ',this_tuple)\n",
    "    num1 = this_tuple[0]\n",
    "    num2 = this_tuple[1]\n",
    "    \n",
    "    y_train = get_y_train()\n",
    "    X_train = get_x_train()\n",
    "\n",
    "    idx_train = ((y_train == num1) ^ (y_train == num2))\n",
    "\n",
    "    subset_train_x = X_train[idx_train]\n",
    "    subset_train_y = y_train[idx_train]\n",
    "\n",
    "    subset_train_y = [-1 if yi==num1 else 1 for yi in subset_train_y]\n",
    "\n",
    "    out_vals_this_tuple = mylinearsvm(X=subset_train_x, y=subset_train_y,l=1)\n",
    "\n",
    "    return np.array(out_vals_this_tuple)"
   ]
  },
  {
   "cell_type": "code",
   "execution_count": 11,
   "metadata": {},
   "outputs": [],
   "source": [
    "comb_list = list(combinations(range(len(np.unique(y_train))), 2))"
   ]
  },
  {
   "cell_type": "code",
   "execution_count": 12,
   "metadata": {},
   "outputs": [
    {
     "name": "stdout",
     "output_type": "stream",
     "text": [
      "predicting for tuple  (2, 8)\n",
      "predicting for tuple  (2, 9)\n",
      "predicting for tuple  (3, 5)\n",
      "predicting for tuple  (3, 7)\n",
      "predicting for tuple  (3, 6)\n",
      "predicting for tuple  (3, 9)\n",
      "predicting for tuple  (3, 8)\n",
      "predicting for tuple  (3, 4)\n",
      "predicting for tuple  (2, 5)\n",
      "predicting for tuple  (2, 4)\n",
      "predicting for tuple  (2, 6)\n",
      "predicting for tuple  (0, 1)\n",
      "predicting for tuple  (0, 2)\n",
      "predicting for tuple  (0, 7)\n",
      "predicting for tuple  (0, 4)\n",
      "predicting for tuple  (0, 8)\n",
      "predicting for tuple  (1, 2)\n",
      "predicting for tuple  (0, 5)\n",
      "predicting for tuple  (2, 3)\n",
      "predicting for tuple  (0, 9)\n",
      "predicting for tuple  (1, 9)\n",
      "predicting for tuple  (1, 4)\n",
      "predicting for tuple  (4, 7)\n",
      "predicting for tuple  (1, 3)\n",
      "predicting for tuple  (4, 8)\n",
      "predicting for tuple  (0, 3)\n",
      "predicting for tuple  (5, 6)\n",
      "predicting for tuple  (4, 5)\n",
      "predicting for tuple  (6, 9)\n",
      "predicting for tuple  (7, 8)\n",
      "predicting for tuple  (7, 9)\n",
      "predicting for tuple  (0, 6)\n",
      "predicting for tuple  (4, 6)\n",
      "predicting for tuple  (4, 9)\n",
      "predicting for tuple  (2, 7)\n",
      "predicting for tuple  (5, 7)\n",
      "predicting for tuple  (5, 8)\n",
      "predicting for tuple  (5, 9)\n",
      "predicting for tuple  (6, 7)\n",
      "predicting for tuple  (8, 9)\n",
      "predicting for tuple  (6, 8)\n",
      "predicting for tuple  (1, 6)\n",
      "predicting for tuple  (1, 7)\n",
      "predicting for tuple  (1, 5)\n",
      "predicting for tuple  (1, 8)\n"
     ]
    }
   ],
   "source": [
    "### Instead of iterating through each combination iteratively, we are using multiprocessing to iterate \n",
    "## over as many combinations as possible at once.\n",
    "if __name__ == '__main__':\n",
    "    pool = Pool()\n",
    "    comb_list = list(combinations(range(len(np.unique(y_train))), 2))\n",
    "    results1 = pool.map(onevone, comb_list)\n",
    "    pool.close()"
   ]
  },
  {
   "cell_type": "code",
   "execution_count": 13,
   "metadata": {},
   "outputs": [],
   "source": [
    "## Storing the x,y sub matrices for each combination\n",
    "y_vals = {}\n",
    "x_vals = {}\n",
    "for i in comb_list:\n",
    "    num1 = i[0]\n",
    "    num2 = i[1]\n",
    "    tup1 = (num1,num2)\n",
    "    X_train = get_x_train()\n",
    "    y_train = get_y_train()\n",
    "    idx_train = ((y_train == num1) ^ (y_train == num2))\n",
    "    subset_train_x = X_train[idx_train]\n",
    "    subset_train_y = y_train[idx_train]\n",
    "    subset_train_y = [-1 if yi==num1 else 1 for yi in subset_train_y]\n",
    "    x_vals[tup1] = subset_train_x\n",
    "    y_vals[tup1] = subset_train_y"
   ]
  },
  {
   "cell_type": "code",
   "execution_count": 14,
   "metadata": {},
   "outputs": [],
   "source": [
    "## calcluating the objective for each combination\n",
    "objective_vals = {}\n",
    "for i in comb_list:\n",
    "    j = 0\n",
    "    num1 = i[0]\n",
    "    num2 = i[1]\n",
    "    tup1 = (num1,num2)\n",
    "    obj_val = [computeobj(beta, x_vals[tup1], y_vals[tup1]) for beta in results1[j]]\n",
    "    objective_vals[tup1] = obj_val\n",
    "    j = j + 1"
   ]
  },
  {
   "cell_type": "code",
   "execution_count": 15,
   "metadata": {},
   "outputs": [
    {
     "data": {
      "text/plain": [
       "<matplotlib.legend.Legend at 0x7fbd613783c8>"
      ]
     },
     "execution_count": 15,
     "metadata": {},
     "output_type": "execute_result"
    },
    {
     "data": {
      "image/png": "[encoded data removed]",
      "text/plain": [
       "<matplotlib.figure.Figure at 0x7fbd61439828>"
      ]
     },
     "metadata": {},
     "output_type": "display_data"
    }
   ],
   "source": [
    "## plotting the objectives\n",
    "plt.rcParams[\"figure.figsize\"] = (12,30)\n",
    "\n",
    "for combntn in comb_list:\n",
    "    plt.plot(range(len(objective_vals[combntn])), objective_vals[combntn], label= combntn)\n",
    "plt.xlabel('num_iterations')\n",
    "plt.ylabel('objective_func_value')\n",
    "plt.legend()"
   ]
  },
  {
   "cell_type": "markdown",
   "metadata": {},
   "source": [
    "We see above that the objective values for some pairs are increasing while it's decreasing for others."
   ]
  },
  {
   "cell_type": "code",
   "execution_count": 16,
   "metadata": {},
   "outputs": [],
   "source": [
    "beta_vals_dict = {}\n",
    "j = 0\n",
    "for i in comb_list:\n",
    "    tup1 = (i[0],i[1])\n",
    "    beta_vals_dict[tup1] = results1[j][-1]\n",
    "    j = j + 1"
   ]
  },
  {
   "cell_type": "code",
   "execution_count": 17,
   "metadata": {},
   "outputs": [],
   "source": [
    "## the predict_class defines hhow frequently is a feature being marked as belonging to\n",
    "## a class. The most frequent class is returned as the final prediction.\n",
    "def predict_class(input_feature):\n",
    "    \n",
    "    predict_dict = {}\n",
    "    for i in range(len(np.unique(y_train))):\n",
    "        predict_dict.setdefault(i,0)\n",
    "    \n",
    "    for i in comb_list:\n",
    "        num1 = i[0]\n",
    "        num2 = i[1]\n",
    "        tup1 = (num1,num2)\n",
    "        \n",
    "        this_beta = beta_vals_dict[(tup1)]\n",
    "        pred_val = np.dot(input_feature,this_beta)\n",
    "        \n",
    "        if pred_val >= 0:\n",
    "            predict_dict[num2] += 1\n",
    "        else:\n",
    "            predict_dict[num1] += 1\n",
    "        \n",
    "        max_val = max(predict_dict.values())\n",
    "        xout = [k for k,v in predict_dict.items() if v == max_val]\n",
    "        \n",
    "    return random.choice(xout)"
   ]
  },
  {
   "cell_type": "code",
   "execution_count": 18,
   "metadata": {},
   "outputs": [],
   "source": [
    "n1, d1 = X_test.shape\n",
    "multiclass_predict_test = np.zeros(n1)\n",
    "for i in range(n1):\n",
    "    multiclass_predict_test[i] = predict_class(X_test[i])\n",
    "\n",
    "n2, d2 = X_train.shape\n",
    "multiclass_predict_train = np.zeros(n2)\n",
    "for i in range(n2):\n",
    "    multiclass_predict_train[i] = predict_class(X_train[i])"
   ]
  },
  {
   "cell_type": "code",
   "execution_count": 19,
   "metadata": {},
   "outputs": [
    {
     "name": "stdout",
     "output_type": "stream",
     "text": [
      "The train misclassification error is: 0.12917594654788422\n",
      "The test misclassification error is: 0.15555555555555556\n"
     ]
    }
   ],
   "source": [
    "## calculating the train and test mse errors\n",
    "mse_val_train = 1-accuracy_score(y_train, multiclass_predict_train)\n",
    "print(\"The train misclassification error is: {}\".format(mse_val_train))\n",
    "\n",
    "mse_val_test = 1-accuracy_score(y_test, multiclass_predict_test)\n",
    "print(\"The test misclassification error is: {}\".format(mse_val_test))"
   ]
  },
  {
   "cell_type": "markdown",
   "metadata": {},
   "source": [
    "## Using sklearn"
   ]
  },
  {
   "cell_type": "code",
   "execution_count": 20,
   "metadata": {},
   "outputs": [],
   "source": [
    "from sklearn.multiclass import OneVsOneClassifier\n",
    "from sklearn.svm import LinearSVC"
   ]
  },
  {
   "cell_type": "code",
   "execution_count": 21,
   "metadata": {},
   "outputs": [
    {
     "data": {
      "text/plain": [
       "OneVsOneClassifier(estimator=LinearSVC(C=1.0, class_weight=None, dual=True, fit_intercept=True,\n",
       "     intercept_scaling=1, loss='squared_hinge', max_iter=1000,\n",
       "     multi_class='ovr', penalty='l2', random_state=0, tol=0.0001,\n",
       "     verbose=0),\n",
       "          n_jobs=-1)"
      ]
     },
     "execution_count": 21,
     "metadata": {},
     "output_type": "execute_result"
    }
   ],
   "source": [
    "clf_svk = OneVsOneClassifier(LinearSVC(random_state=0), n_jobs=-1)\n",
    "clf_svk.fit(X_train, y_train)"
   ]
  },
  {
   "cell_type": "code",
   "execution_count": 25,
   "metadata": {},
   "outputs": [
    {
     "name": "stdout",
     "output_type": "stream",
     "text": [
      "train misclassification error: 0.0\n",
      "test misclassification error: 0.013333333333333308\n"
     ]
    }
   ],
   "source": [
    "out1 = clf_svk.predict(X_train)\n",
    "out2 = clf_svk.predict(X_test)\n",
    "\n",
    "acc1 = accuracy_score(y_train,out1)\n",
    "acc2 = accuracy_score(y_test,out2)\n",
    "\n",
    "mse1 = 1 - acc1\n",
    "mse2 = 1- acc2\n",
    "print(\"train misclassification error: {}\".format(mse1))\n",
    "print(\"test misclassification error: {}\".format(mse2))"
   ]
  },
  {
   "cell_type": "markdown",
   "metadata": {},
   "source": [
    "We see much lower errors for the sklearn model"
   ]
  },
  {
   "cell_type": "code",
   "execution_count": null,
   "metadata": {},
   "outputs": [],
   "source": []
  }
 ],
 "metadata": {
  "kernelspec": {
   "display_name": "Python 3",
   "language": "python",
   "name": "python3"
  },
  "language_info": {
   "codemirror_mode": {
    "name": "ipython",
    "version": 3
   },
   "file_extension": ".py",
   "mimetype": "text/x-python",
   "name": "python",
   "nbconvert_exporter": "python",
   "pygments_lexer": "ipython3",
   "version": "3.6.4"
  }
 },
 "nbformat": 4,
 "nbformat_minor": 2
}
